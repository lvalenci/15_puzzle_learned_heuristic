{
 "cells": [
  {
   "cell_type": "code",
   "execution_count": 1,
   "metadata": {},
   "outputs": [
    {
     "name": "stderr",
     "output_type": "stream",
     "text": [
      "Using TensorFlow backend.\n"
     ]
    }
   ],
   "source": [
    "'''\n",
    "Worked on by: Meena Hari and Tarini Singh.\n",
    "\n",
    "We perform data preprocessing using KNearestNeighbors.\n",
    "66 new features are generated.\n",
    "\n",
    "Trained a 1 layer ANN with transformed, higher dimensional \n",
    "dataset (each input consists of the raw board representaion \n",
    "(list of integers from 1 - 16) plus 66 newly generated features).\n",
    "\n",
    "In prog.\n",
    "\n",
    "'''\n",
    "\n",
    "import numpy as np\n",
    "import pandas as pd\n",
    "from sklearn.neighbors import NearestNeighbors\n",
    "from tqdm import tqdm\n",
    "import keras.backend as K\n",
    "from keras.models import Sequential, Model\n",
    "from keras.layers import Dense, Dropout, Conv2D, Flatten, Input\n",
    "from sklearn.model_selection import KFold\n",
    "from sklearn.model_selection import cross_val_score\n",
    "from keras.models import load_model\n",
    "import keras.losses\n",
    "\n",
    "from constants import *\n",
    "import heuristic as h\n",
    "import io_help as io\n",
    "import neural_net as nn\n",
    "import solver as s\n",
    "\n",
    "def load_data(file_name):\n",
    "    \"\"\"\n",
    "    This function reads in training data from a file and returns \n",
    "    the boards in X and their labels in Y as a tuple. \n",
    "    \"\"\"\n",
    "    file = open(file_name, \"r\")\n",
    "    X = []\n",
    "    Y = []\n",
    "    \n",
    "\n",
    "    for string in file: \n",
    "        (board, dist) = io.string_to_board_and_dist(string)\n",
    "        man = np.array(h.manhattan(board, None))\n",
    "        ham = np.array(h.hamming(board, None))\n",
    "        X_temp = np.concatenate((board.reshape(16), man, ham), axis=None)\n",
    "        X.append(X_temp)\n",
    "        Y.append(dist)\n",
    "        \n",
    "    file.close()\n",
    "    X_train = np.asarray(X)\n",
    "    Y_train = np.asarray(Y)\n",
    "    return(X_train, Y_train)"
   ]
  },
  {
   "cell_type": "code",
   "execution_count": 2,
   "metadata": {},
   "outputs": [
    {
     "name": "stdout",
     "output_type": "stream",
     "text": [
      "(93844, 18)\n"
     ]
    }
   ],
   "source": [
    "# Load dataset. \n",
    "# X: board inputs, Y: true output.\n",
    "(X_train,Y_train) = load_data('Uncombined Data Files/meena_5_19_2020_93844.txt')\n",
    "print(X_train.shape)"
   ]
  },
  {
   "cell_type": "code",
   "execution_count": 3,
   "metadata": {},
   "outputs": [],
   "source": [
    "# Generates additional features.\n",
    "# X: the input data file.\n",
    "# X_train: the original training data file (not transformed).\n",
    "def gen_features (X, X_train, knn_model):\n",
    "    #data_arr = np.zeros([len(X), 16*2*2 + 2])\n",
    "    data_arr = np.zeros([len(X), 18*2*2 + 2])\n",
    "    pred = knn_model.kneighbors(X)\n",
    "    \n",
    "    #for i in tqdm(range(len(X))):\n",
    "    for i in range(len(X)):\n",
    "        row = X[i]\n",
    "        # Grabs the rows in X corresponding to 50 nearest neighbors of X[i].\n",
    "        # pred[1][i] contains a list of the indices of the 50 nearest neighbors.\n",
    "        data = X_train[pred[1][i]]\n",
    "        # Divide X[i] by each of its neighbors. div should be a \n",
    "        # 50 x 16 matrix, i.e. div[j] = X[i] / X[j].\n",
    "        div = (row / data)\n",
    "        # Subtract X[i] by each of its neighbors. diff should be a \n",
    "        # 50 x 16 dimension matrix.\n",
    "        diff = (row - data)\n",
    "        # concat is a 50 x 32 matrix.\n",
    "        concat = np.concatenate([div, diff], axis = 1)\n",
    "        # means is a 50 x 32 matrix.\n",
    "        # std is a 50 x 32 matrix.\n",
    "        means, stds = np.nanmean(concat, axis = 0), np.nanstd(concat, axis = 0)\n",
    "        # Populate data_arr with newly generated features.\n",
    "        data_arr[i, :len(means)] = means\n",
    "        data_arr[i, len(means):len(means) + len(stds)] = stds\n",
    "        data_arr[i, -1] = np.nanmean(pred[0][i])\n",
    "        data_arr[i, -2] = np.nanstd(pred[0][i])\n",
    "    # Concatenate generated features to the original dataset.\n",
    "    return np.concatenate([X, data_arr], axis=1)"
   ]
  },
  {
   "cell_type": "code",
   "execution_count": 4,
   "metadata": {},
   "outputs": [],
   "source": [
    "knn_model = NearestNeighbors(n_neighbors=151, n_jobs = -1).fit(X_train,Y_train)\n",
    "X_train_2 = gen_features(X_train, X_train, knn_model)"
   ]
  },
  {
   "cell_type": "code",
   "execution_count": 20,
   "metadata": {},
   "outputs": [],
   "source": [
    "def shift_mse(y_true, y_pred):\n",
    "    \"\"\"custom loss functions\"\"\"\n",
    "    loss = (1 + 6/(1 + K.exp(-(y_pred - y_true)))) * K.square(y_pred - y_true)\n",
    "    loss = K.mean(loss, axis = 1)\n",
    "    return loss\n",
    "\n",
    "\n",
    "def exp_loss_2(y_true, y_pred):\n",
    "    \"\"\"\n",
    "    Custom loss function. \n",
    "    \"\"\"\n",
    "    loss = 0.25*K.exp((y_pred - y_true))\n",
    "    loss = loss + K.square(y_pred - y_true)\n",
    "    loss = K.mean(loss, axis = 1)\n",
    "\n",
    "    return loss\n",
    "    \n",
    "keras.losses.shift_mse = shift_mse\n",
    "keras.losses.exp_loss_2 = exp_loss_2"
   ]
  },
  {
   "cell_type": "code",
   "execution_count": 21,
   "metadata": {},
   "outputs": [],
   "source": [
    "def luka_model (X, Y):\n",
    "    # Build Model\n",
    "    model = Sequential()\n",
    "\n",
    "    # Input Layer\n",
    "    i = Input(shape = (18*2*2+2+18,))\n",
    "    x_1 = Dense(18*2*2+2+18, activation='relu')(i)\n",
    "    x_2 = Dropout(0.1)(x_1)\n",
    "    x_3 = Dense(69, activation='relu')(x_2)\n",
    "    x_4 = Dropout(0.1)(x_3)\n",
    "    x_5 = Dense(17, activation='relu')(x_4)\n",
    "    o = Dense(1, activation='linear')(x_1)\n",
    "    model = Model(i,o)\n",
    "\n",
    "    # Define the optimizer and loss function\n",
    "    model.compile(optimizer='adam', loss=exp_loss_2, metrics=['accuracy'])\n",
    "\n",
    "    # You can also define a custom loss function\n",
    "    # model.compile(optimizer='adam', loss=custom_loss)\n",
    "\n",
    "    # Train \n",
    "    model.fit(X, Y, epochs=15)\n",
    "\n",
    "    return model"
   ]
  },
  {
   "cell_type": "code",
   "execution_count": null,
   "metadata": {},
   "outputs": [],
   "source": []
  },
  {
   "cell_type": "code",
   "execution_count": 7,
   "metadata": {},
   "outputs": [
    {
     "data": {
      "text/plain": [
       "\"\\n# Build Model\\nmodel = Sequential()\\n\\n# Input Layer\\nmodel.add(Dense(units=(16*2*2+2+16), input_dim=(16*2*2+2+16), activation='relu'))\\nmodel.add(Dropout(0.1))\\n\\n# Hidden Layers\\nmodel.add(Dense(units=66+16, activation='relu'))\\n\\n# Output Layer\\nmodel.add(Dense(units=1, activation='linear'))\\n\\n# Define the optimizer and loss function\\n#model.compile(optimizer='adam', loss='mse', metrics=['accuracy'])\\nmodel.compile(optimizer='adam', loss=shift_mse, metrics=['accuracy'])\\n\\n# You can also define a custom loss function\\n# model.compile(optimizer='adam', loss=custom_loss)\\n\\n# Train \\nmodel.fit(X_train_2, Y_train, epochs=20)\\n\\n# Test\\n#score = model.evaluate(X_test, Y_test)\\n\\n#print(score)\\n\""
      ]
     },
     "execution_count": 7,
     "metadata": {},
     "output_type": "execute_result"
    }
   ],
   "source": [
    "'''\n",
    "# Build Model\n",
    "model = Sequential()\n",
    "\n",
    "# Input Layer\n",
    "model.add(Dense(units=(16*2*2+2+16), input_dim=(16*2*2+2+16), activation='relu'))\n",
    "model.add(Dropout(0.1))\n",
    "\n",
    "# Hidden Layers\n",
    "model.add(Dense(units=66+16, activation='relu'))\n",
    "\n",
    "# Output Layer\n",
    "model.add(Dense(units=1, activation='linear'))\n",
    "\n",
    "# Define the optimizer and loss function\n",
    "#model.compile(optimizer='adam', loss='mse', metrics=['accuracy'])\n",
    "model.compile(optimizer='adam', loss=shift_mse, metrics=['accuracy'])\n",
    "\n",
    "# You can also define a custom loss function\n",
    "# model.compile(optimizer='adam', loss=custom_loss)\n",
    "\n",
    "# Train \n",
    "model.fit(X_train_2, Y_train, epochs=20)\n",
    "\n",
    "# Test\n",
    "#score = model.evaluate(X_test, Y_test)\n",
    "\n",
    "#print(score)\n",
    "'''"
   ]
  },
  {
   "cell_type": "code",
   "execution_count": 8,
   "metadata": {},
   "outputs": [],
   "source": [
    "# Load test dataset. \n",
    "# X_test: board inputs, Y_test: true output.\n",
    "(X_test,Y_test) = load_data('Uncombined Data Files/Yasmin_5_19_10048.txt')\n",
    "\n",
    "# Transform X_test to higher dimension.\n",
    "X_test_2 = gen_features (X_test, X_train, knn_model)"
   ]
  },
  {
   "cell_type": "code",
   "execution_count": 22,
   "metadata": {},
   "outputs": [
    {
     "name": "stdout",
     "output_type": "stream",
     "text": [
      "Epoch 1/15\n",
      "10047/10047 [==============================] - 0s 27us/step - loss: 18.7040 - accuracy: 0.1898\n",
      "Epoch 2/15\n",
      "10047/10047 [==============================] - 0s 19us/step - loss: 8.1507 - accuracy: 0.2319\n",
      "Epoch 3/15\n",
      "10047/10047 [==============================] - 0s 19us/step - loss: 7.5362 - accuracy: 0.2473\n",
      "Epoch 4/15\n",
      "10047/10047 [==============================] - 0s 20us/step - loss: 7.4633 - accuracy: 0.2523\n",
      "Epoch 5/15\n",
      "10047/10047 [==============================] - 0s 20us/step - loss: 7.2708 - accuracy: 0.2638\n",
      "Epoch 6/15\n",
      "10047/10047 [==============================] - 0s 20us/step - loss: 7.1415 - accuracy: 0.2695\n",
      "Epoch 7/15\n",
      "10047/10047 [==============================] - 0s 20us/step - loss: 7.0363 - accuracy: 0.2734\n",
      "Epoch 8/15\n",
      "10047/10047 [==============================] - 0s 20us/step - loss: 7.0134 - accuracy: 0.2750\n",
      "Epoch 9/15\n",
      "10047/10047 [==============================] - 0s 20us/step - loss: 6.8839 - accuracy: 0.2895\n",
      "Epoch 10/15\n",
      "10047/10047 [==============================] - 0s 20us/step - loss: 6.6580 - accuracy: 0.2983\n",
      "Epoch 11/15\n",
      "10047/10047 [==============================] - 0s 20us/step - loss: 6.5258 - accuracy: 0.3021\n",
      "Epoch 12/15\n",
      "10047/10047 [==============================] - 0s 20us/step - loss: 6.5063 - accuracy: 0.3064\n",
      "Epoch 13/15\n",
      "10047/10047 [==============================] - 0s 20us/step - loss: 6.5478 - accuracy: 0.3029\n",
      "Epoch 14/15\n",
      "10047/10047 [==============================] - 0s 25us/step - loss: 6.3794 - accuracy: 0.3154\n",
      "Epoch 15/15\n",
      "10047/10047 [==============================] - 0s 27us/step - loss: 6.1327 - accuracy: 0.3270\n"
     ]
    },
    {
     "name": "stderr",
     "output_type": "stream",
     "text": [
      "\n",
      "  0%|          | 0/10047 [00:00<?, ?it/s]\u001b[A\n",
      "  1%|▏         | 136/10047 [00:00<00:07, 1354.19it/s]\u001b[A\n",
      "  3%|▎         | 294/10047 [00:00<00:06, 1412.55it/s]\u001b[A\n",
      "  5%|▍         | 459/10047 [00:00<00:06, 1475.13it/s]\u001b[A\n",
      "  6%|▌         | 621/10047 [00:00<00:06, 1515.51it/s]\u001b[A\n",
      "  8%|▊         | 784/10047 [00:00<00:05, 1547.34it/s]\u001b[A\n",
      "  9%|▉         | 945/10047 [00:00<00:05, 1565.17it/s]\u001b[A\n",
      " 11%|█         | 1106/10047 [00:00<00:05, 1577.17it/s]\u001b[A\n",
      " 13%|█▎        | 1262/10047 [00:00<00:05, 1569.71it/s]\u001b[A\n",
      " 14%|█▍        | 1425/10047 [00:00<00:05, 1587.29it/s]\u001b[A\n",
      " 16%|█▌        | 1590/10047 [00:01<00:05, 1602.85it/s]\u001b[A\n",
      " 17%|█▋        | 1755/10047 [00:01<00:05, 1614.66it/s]\u001b[A\n",
      " 19%|█▉        | 1919/10047 [00:01<00:05, 1620.83it/s]\u001b[A\n",
      " 21%|██        | 2082/10047 [00:01<00:04, 1622.14it/s]\u001b[A\n",
      " 22%|██▏       | 2247/10047 [00:01<00:04, 1629.14it/s]\u001b[A\n",
      " 24%|██▍       | 2411/10047 [00:01<00:04, 1632.20it/s]\u001b[A\n",
      " 26%|██▌       | 2574/10047 [00:01<00:04, 1623.28it/s]\u001b[A\n",
      " 27%|██▋       | 2736/10047 [00:01<00:04, 1617.71it/s]\u001b[A\n",
      " 29%|██▉       | 2900/10047 [00:01<00:04, 1621.67it/s]\u001b[A\n",
      " 30%|███       | 3062/10047 [00:01<00:04, 1618.59it/s]\u001b[A\n",
      " 32%|███▏      | 3226/10047 [00:02<00:04, 1624.65it/s]\u001b[A\n",
      " 34%|███▎      | 3390/10047 [00:02<00:04, 1626.55it/s]\u001b[A\n",
      " 35%|███▌      | 3556/10047 [00:02<00:03, 1635.35it/s]\u001b[A\n",
      " 37%|███▋      | 3723/10047 [00:02<00:03, 1643.67it/s]\u001b[A\n",
      " 39%|███▊      | 3888/10047 [00:02<00:03, 1630.93it/s]\u001b[A\n",
      " 40%|████      | 4052/10047 [00:02<00:03, 1623.92it/s]\u001b[A\n",
      " 42%|████▏     | 4218/10047 [00:02<00:03, 1632.83it/s]\u001b[A\n",
      " 44%|████▎     | 4382/10047 [00:02<00:03, 1634.87it/s]\u001b[A\n",
      " 45%|████▌     | 4546/10047 [00:02<00:03, 1613.90it/s]\u001b[A\n",
      " 47%|████▋     | 4710/10047 [00:02<00:03, 1620.93it/s]\u001b[A\n",
      " 49%|████▊     | 4873/10047 [00:03<00:03, 1515.15it/s]\u001b[A\n",
      " 50%|█████     | 5026/10047 [00:03<00:03, 1412.14it/s]\u001b[A\n",
      " 51%|█████▏    | 5170/10047 [00:03<00:03, 1405.58it/s]\u001b[A\n",
      " 53%|█████▎    | 5329/10047 [00:03<00:03, 1455.77it/s]\u001b[A\n",
      " 55%|█████▍    | 5490/10047 [00:03<00:03, 1497.39it/s]\u001b[A\n",
      " 56%|█████▋    | 5654/10047 [00:03<00:02, 1536.18it/s]\u001b[A\n",
      " 58%|█████▊    | 5814/10047 [00:03<00:02, 1554.54it/s]\u001b[A\n",
      " 59%|█████▉    | 5971/10047 [00:03<00:02, 1556.58it/s]\u001b[A\n",
      " 61%|██████    | 6129/10047 [00:03<00:02, 1562.01it/s]\u001b[A\n",
      " 63%|██████▎   | 6290/10047 [00:03<00:02, 1575.22it/s]\u001b[A\n",
      " 64%|██████▍   | 6452/10047 [00:04<00:02, 1586.97it/s]\u001b[A\n",
      " 66%|██████▌   | 6616/10047 [00:04<00:02, 1601.66it/s]\u001b[A\n",
      " 68%|██████▊   | 6783/10047 [00:04<00:02, 1619.78it/s]\u001b[A\n",
      " 69%|██████▉   | 6947/10047 [00:04<00:01, 1623.10it/s]\u001b[A\n",
      " 71%|███████   | 7112/10047 [00:04<00:01, 1628.36it/s]\u001b[A\n",
      " 72%|███████▏  | 7275/10047 [00:04<00:01, 1623.08it/s]\u001b[A\n",
      " 74%|███████▍  | 7438/10047 [00:04<00:01, 1620.44it/s]\u001b[A\n",
      " 76%|███████▌  | 7601/10047 [00:04<00:01, 1588.05it/s]\u001b[A\n",
      " 77%|███████▋  | 7766/10047 [00:04<00:01, 1605.37it/s]\u001b[A\n",
      " 79%|███████▉  | 7929/10047 [00:04<00:01, 1612.15it/s]\u001b[A\n",
      " 81%|████████  | 8093/10047 [00:05<00:01, 1619.22it/s]\u001b[A\n",
      " 82%|████████▏ | 8256/10047 [00:05<00:01, 1617.89it/s]\u001b[A\n",
      " 84%|████████▍ | 8418/10047 [00:05<00:01, 1614.98it/s]\u001b[A\n",
      " 85%|████████▌ | 8581/10047 [00:05<00:00, 1616.83it/s]\u001b[A\n",
      " 87%|████████▋ | 8745/10047 [00:05<00:00, 1621.61it/s]\u001b[A\n",
      " 89%|████████▊ | 8910/10047 [00:05<00:00, 1627.02it/s]\u001b[A\n",
      " 90%|█████████ | 9075/10047 [00:05<00:00, 1631.25it/s]\u001b[A\n",
      " 92%|█████████▏| 9239/10047 [00:05<00:00, 1587.55it/s]\u001b[A\n",
      " 94%|█████████▎| 9404/10047 [00:05<00:00, 1605.23it/s]\u001b[A\n",
      " 95%|█████████▌| 9565/10047 [00:06<00:00, 1606.50it/s]\u001b[A\n",
      " 97%|█████████▋| 9728/10047 [00:06<00:00, 1612.53it/s]\u001b[A\n",
      "100%|██████████| 10047/10047 [00:06<00:00, 1594.87it/s][A\n"
     ]
    },
    {
     "name": "stdout",
     "output_type": "stream",
     "text": [
      "------ TRUCATION: ------\n",
      "Avg distance overestimated:  1.5040369088811996\n",
      "Avg distance underestimated:  1.7521953566702755\n",
      "E_admiss:  0.17258883248730963\n",
      "E_out:  0.7906837862048373\n",
      "Avg distance over Manhattan:  2.871187540558079\n",
      "Avg distance under Manhattan:  1.0409407665505226\n",
      "Percent over Manhattan:  0.6135164725788793\n",
      "Percent under Manhattan:  0.22852592813775258\n",
      "\n",
      "\n",
      "------ ROUNDED: ------\n",
      "Avg distance overestimated:  1.6451484\n",
      "Avg distance underestimated:  1.4354562\n",
      "E_admiss:  0.24823330347367373\n",
      "E_out:  0.660495670349358\n"
     ]
    }
   ],
   "source": [
    "dist_over_i = []\n",
    "misclass_i = 0\n",
    "dist_under_i = []\n",
    "dist_over_man_i = []\n",
    "dist_under_man_i = []\n",
    "\n",
    "dist_over_r = []\n",
    "misclass_r = 0\n",
    "dist_under_r = []\n",
    "\n",
    "model = luka_model(X_test_2, Y_test)\n",
    "\n",
    "for i in tqdm(range(len(X_test))):\n",
    "    nn_heur_i = int(model.predict(X_test_2[i:(i+1),:]))\n",
    "    nn_heur_r = np.around(model.predict(X_test_2[i:(i+1),:]))\n",
    "    man_heur = h.manhattan(X_test[i][:-2].reshape(4,4), model)\n",
    "    y = Y_test[i]\n",
    "    \n",
    "    ### TRUNCATE ###\n",
    "    if (nn_heur_i > y):\n",
    "        dist_over_i.append(nn_heur_i - y)\n",
    "    \n",
    "    if (nn_heur_i <= y):\n",
    "        dist_under_i.append(y - nn_heur_i)\n",
    "    \n",
    "    if (nn_heur_i != y):\n",
    "        misclass_i += 1\n",
    "    \n",
    "    if (nn_heur_i > man_heur):\n",
    "        dist_over_man_i.append(nn_heur_i - man_heur)\n",
    "        \n",
    "    if (nn_heur_i < man_heur):\n",
    "        dist_under_man_i.append(man_heur - nn_heur_i)\n",
    "    \n",
    "        \n",
    "    ##### ROUND ##### \n",
    "    if (nn_heur_r > y):\n",
    "        dist_over_r.append(nn_heur_r - y)\n",
    "    \n",
    "    if (nn_heur_r <= y):\n",
    "        dist_under_r.append(y - nn_heur_r)\n",
    "    \n",
    "    if (nn_heur_r != y):\n",
    "        misclass_r += 1\n",
    "    \n",
    "avg_dist_over_i = np.mean(np.asarray(dist_over_i))\n",
    "avg_dist_under_i = np.mean(np.asarray(dist_under_i))\n",
    "out_sample_error_i = misclass_i / len(X_test)\n",
    "avg_dist_over_man_i = np.mean(np.asarray(dist_over_man_i))\n",
    "avg_dist_under_man_i = np.mean(np.asarray(dist_under_man_i))\n",
    "\n",
    "avg_dist_over_r = np.mean(np.asarray(dist_over_r))\n",
    "avg_dist_under_r = np.mean(np.asarray(dist_under_r))\n",
    "out_sample_error_r = misclass_r / len(X_test)\n",
    " \n",
    "print(\"------ TRUCATION: ------\")\n",
    "print(\"Avg distance overestimated: \", avg_dist_over_i)\n",
    "print(\"Avg distance underestimated: \", avg_dist_under_i)\n",
    "print(\"E_admiss: \", len(dist_over_i)/len(X_test))\n",
    "print(\"E_out: \", out_sample_error_i)\n",
    "print(\"Avg distance over Manhattan: \", avg_dist_over_man_i)\n",
    "print(\"Avg distance under Manhattan: \", avg_dist_under_man_i)\n",
    "print(\"Percent over Manhattan: \", len(dist_over_man_i)/len(X_test))\n",
    "print(\"Percent under Manhattan: \", len(dist_under_man_i)/len(X_test))\n",
    "print(\"\\n\")\n",
    "print(\"------ ROUNDED: ------\")\n",
    "print(\"Avg distance overestimated: \", avg_dist_over_r)\n",
    "print(\"Avg distance underestimated: \", avg_dist_under_r)\n",
    "print(\"E_admiss: \", len(dist_over_r)/len(X_test))\n",
    "print(\"E_out: \", out_sample_error_r)"
   ]
  },
  {
   "cell_type": "code",
   "execution_count": 10,
   "metadata": {},
   "outputs": [],
   "source": [
    "model.save(\"luka_nn.txt\")"
   ]
  },
  {
   "cell_type": "code",
   "execution_count": 11,
   "metadata": {},
   "outputs": [
    {
     "data": {
      "text/plain": [
       "'\\n# DON\\'T HAVE TO RUN THIS CELL AGAIN, only to transform Yasmin_5_16_40360.txt.\\n\\n(X,Y) = load_data(\\'Uncombined Data Files/Yasmin_5_16_40360.txt\\')\\nknn_model_all = NearestNeighbors(n_neighbors=50, n_jobs = -1).fit(X,Y)\\nX_2 = gen_features(X, X, knn_model_all)\\nX_Y = np.column_stack((X_2, Y))\\nnp.savetxt(\"Yasmin_40360_50knn_Trans.csv\", X_Y, delimiter=\\',\\')\\n'"
      ]
     },
     "execution_count": 11,
     "metadata": {},
     "output_type": "execute_result"
    }
   ],
   "source": [
    "'''\n",
    "# DON'T HAVE TO RUN THIS CELL AGAIN, only to transform Yasmin_5_16_40360.txt.\n",
    "\n",
    "(X,Y) = load_data('Uncombined Data Files/Yasmin_5_16_40360.txt')\n",
    "knn_model_all = NearestNeighbors(n_neighbors=50, n_jobs = -1).fit(X,Y)\n",
    "X_2 = gen_features(X, X, knn_model_all)\n",
    "X_Y = np.column_stack((X_2, Y))\n",
    "np.savetxt(\"Yasmin_40360_50knn_Trans.csv\", X_Y, delimiter=',')\n",
    "'''"
   ]
  },
  {
   "cell_type": "code",
   "execution_count": 12,
   "metadata": {},
   "outputs": [
    {
     "data": {
      "text/plain": [
       "'\\ndef heur_boi(board, model):\\n    \"\"\"\\n    This function takes in a board and a trained NN model and returns\\n    the heuristic the model predicts.\\n    \"\"\"\\n    return 0\\n    #[[pred]] = model.predict(board)\\n    #return round(pred)\\n'"
      ]
     },
     "execution_count": 12,
     "metadata": {},
     "output_type": "execute_result"
    }
   ],
   "source": [
    "def string_to_test_info(string):\n",
    "    \"\"\"\n",
    "    given a string containing the standard form of test info, returns tuple of \n",
    "    board, number of states to solution, time, and lenght of solution\n",
    "    \"\"\"\n",
    "    split = string.split(\"!\")\n",
    "    board = io.string_to_board(split[0])\n",
    "    n_states = int(split[1])\n",
    "    time = float(split[2])\n",
    "    sol_len = int(split[3])\n",
    "    return (board, n_states, time, sol_len)\n",
    "\n",
    "\n",
    "def load_boards(filename):\n",
    "    \"\"\"\n",
    "    given name of file containing test boards, loads all test boards\n",
    "    \"\"\"\n",
    "    file = open(filename, \"r\")\n",
    "\n",
    "    boards = []\n",
    "    n_states = []\n",
    "    times = []\n",
    "    dists = []\n",
    "\n",
    "    for line in file:\n",
    "        (board, c_states, c_time, sol_len) = string_to_test_info(line)\n",
    "        boards.append(board)\n",
    "        n_states.append(c_states)\n",
    "        times.append(c_time)\n",
    "        dists.append(sol_len)\n",
    "\n",
    "    return (boards, n_states, times, dists)\n",
    "\n",
    "def run_testing(data_file, model, h_func):\n",
    "    \"\"\"\n",
    "    given a data_file containing testing data, a model, and heuristic function\n",
    "    for said model, computes average number of states to solution, number to \n",
    "    times solution length is non-optimal, and average estimates of solution \n",
    "    lengths\n",
    "    \"\"\"\n",
    "    (boards, n_states, times, dists) = load_boards(data_file)\n",
    "\n",
    "    cust_states = []\n",
    "    cust_wrong = 0\n",
    "    cust_distance = []\n",
    "\n",
    "    for i in tqdm(range(len(boards))):\n",
    "        #(c_states, c_time, sol_path) = s.solve(boards[i], h_func, model)\n",
    "        (c_states, c_time, sol_path) = s.solve(boards[i], h_func, model)\n",
    "        cust_states.append(c_states)\n",
    "        sol_len = len(sol_path) - 1\n",
    "        if not (sol_len == dists[i]):\n",
    "            cust_wrong += 1\n",
    "        cust_distance.append(sol_len)\n",
    "\n",
    "    print(\"average number of states explored to find solution:\")\n",
    "    print(\"\\tfor learned model: \" + str(np.mean(cust_states)))\n",
    "    print(\"\\tfor manhattan distance: \" + str(np.mean(n_states)))\n",
    "    print(\"----------------------------------------------------\")\n",
    "    print(\"solution was non-optimal \" + str(cust_wrong / NUM_TEST_BOARDS * 100) + \"% of the time\")\n",
    "    print(\"----------------------------------------------------\")\n",
    "    print(\"average length of solution path was:\")\n",
    "    print(\"\\tfor learned model: \" + str(np.mean(cust_distance)))\n",
    "    print(\"\\tfor manhattan distance: \" + str(np.mean(dists)))\n",
    "'''\n",
    "def heur_boi(board, model):\n",
    "    \"\"\"\n",
    "    This function takes in a board and a trained NN model and returns\n",
    "    the heuristic the model predicts.\n",
    "    \"\"\"\n",
    "    return 0\n",
    "    #[[pred]] = model.predict(board)\n",
    "    #return round(pred)\n",
    "'''"
   ]
  },
  {
   "cell_type": "code",
   "execution_count": 27,
   "metadata": {},
   "outputs": [],
   "source": [
    "dic = {}\n",
    "def heur_boi(board, model):\n",
    "    b1 = board.reshape(16)\n",
    "    man = np.array(h.manhattan(b1.reshape(4,4), None))\n",
    "    ham = np.array(h.hamming(b1.reshape(4,4), None))\n",
    "    \n",
    "    b2 = np.concatenate((b1, man, ham), axis=None)\n",
    "    b2_str = np.array_str(b2)\n",
    "    \n",
    "    if b2_str in dic:\n",
    "        return dic.get(b2_str)\n",
    "    else:\n",
    "        # transform board\n",
    "        X_2 = gen_features(np.asarray([b2]), X_train, knn_model)\n",
    "        [[pred]] = model.predict(X_2[0].reshape(1,-1))\n",
    "        dic[b2_str] = int(pred)\n",
    "        return dic[b2_str]"
   ]
  },
  {
   "cell_type": "code",
   "execution_count": null,
   "metadata": {},
   "outputs": [
    {
     "name": "stderr",
     "output_type": "stream",
     "text": [
      "\n",
      "  0%|          | 0/15 [00:00<?, ?it/s]\u001b[A\n",
      "  7%|▋         | 1/15 [00:07<01:51,  8.00s/it]\u001b[A\n",
      " 13%|█▎        | 2/15 [00:12<01:31,  7.02s/it]\u001b[A\n",
      " 20%|██        | 3/15 [01:39<06:12, 31.02s/it]\u001b[A\n",
      " 27%|██▋       | 4/15 [02:49<07:48, 42.61s/it]\u001b[A\n",
      " 33%|███▎      | 5/15 [06:08<14:54, 89.41s/it]\u001b[A"
     ]
    }
   ],
   "source": [
    "run_testing('baby_test.txt', model, heur_boi)"
   ]
  },
  {
   "cell_type": "code",
   "execution_count": null,
   "metadata": {},
   "outputs": [],
   "source": [
    "model.predict(np.zeros((1,82)))"
   ]
  },
  {
   "cell_type": "code",
   "execution_count": null,
   "metadata": {},
   "outputs": [],
   "source": [
    "(np.arange(82).T).shape"
   ]
  },
  {
   "cell_type": "code",
   "execution_count": null,
   "metadata": {},
   "outputs": [],
   "source": [
    "np.arange(82)"
   ]
  },
  {
   "cell_type": "code",
   "execution_count": null,
   "metadata": {},
   "outputs": [],
   "source": [
    "np.asarray([np.arange(82)])"
   ]
  },
  {
   "cell_type": "code",
   "execution_count": null,
   "metadata": {},
   "outputs": [],
   "source": [
    "t2 = gen_features(np.asarray([np.arange(16)]), X_train, knn_model)"
   ]
  },
  {
   "cell_type": "code",
   "execution_count": null,
   "metadata": {},
   "outputs": [],
   "source": [
    "t2"
   ]
  },
  {
   "cell_type": "code",
   "execution_count": null,
   "metadata": {},
   "outputs": [],
   "source": [
    "t3 = gen_features(np.asarray([np.arange(16)]), X_train, knn_model)\n",
    "[[pred]] = model.predict(t3[0].reshape(1,-1))\n",
    "print(round(pred))"
   ]
  },
  {
   "cell_type": "code",
   "execution_count": null,
   "metadata": {},
   "outputs": [],
   "source": [
    "np.array([2,6,3,4,12,5,10,15,1,14,16,8,13,7,9,11])"
   ]
  },
  {
   "cell_type": "code",
   "execution_count": null,
   "metadata": {},
   "outputs": [],
   "source": [
    "t3 = gen_features(np.asarray([np.array([5,7,16,2,6,14,12,1,9,3,11,15,13,10,8,4])]), X_train, knn_model)\n",
    "[[pred]] = model.predict(t3[0].reshape(1,-1))\n",
    "print(round(pred))"
   ]
  },
  {
   "cell_type": "code",
   "execution_count": null,
   "metadata": {},
   "outputs": [],
   "source": []
  },
  {
   "cell_type": "code",
   "execution_count": null,
   "metadata": {},
   "outputs": [],
   "source": []
  }
 ],
 "metadata": {
  "kernelspec": {
   "display_name": "Python 3",
   "language": "python",
   "name": "python3"
  },
  "language_info": {
   "codemirror_mode": {
    "name": "ipython",
    "version": 3
   },
   "file_extension": ".py",
   "mimetype": "text/x-python",
   "name": "python",
   "nbconvert_exporter": "python",
   "pygments_lexer": "ipython3",
   "version": "3.7.3"
  }
 },
 "nbformat": 4,
 "nbformat_minor": 4
}
